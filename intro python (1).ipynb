{
 "cells": [
  {
   "cell_type": "code",
   "execution_count": null,
   "id": "dd467755-626b-4623-a446-071aa0dd407d",
   "metadata": {},
   "outputs": [],
   "source": [
    "#2.1. Rapide exerice de chauffe : manipulation de chaînes de caractères ⛓\n",
    "bonjour = \"hello world !\"\n",
    "print(bonjour)"
   ]
  },
  {
   "cell_type": "code",
   "execution_count": null,
   "id": "258357a2-2b57-4c80-aa14-5c34b6d898ed",
   "metadata": {},
   "outputs": [],
   "source": [
    "premier_caractere = bonjour[0]\n",
    "print(premier_caractere)"
   ]
  },
  {
   "cell_type": "code",
   "execution_count": null,
   "id": "d06056be-766f-4e9b-ae3b-20bc0ad11d14",
   "metadata": {},
   "outputs": [],
   "source": [
    "dernier_caractere = bonjour[-1]\n",
    "print(dernier_caractere)"
   ]
  },
  {
   "cell_type": "code",
   "execution_count": null,
   "id": "c2f75291-7db2-46e4-b3cb-bfc2b14b4546",
   "metadata": {},
   "outputs": [],
   "source": [
    "caracteres_1_a_3 = bonjour[1:4]\n",
    "print(caracteres_1_a_3)"
   ]
  },
  {
   "cell_type": "code",
   "execution_count": null,
   "id": "613493b7-18ee-484d-8fb6-c4bf76a4ab95",
   "metadata": {},
   "outputs": [],
   "source": [
    "caracteres_a_partir_de_3 = bonjour[3:]\n",
    "print(caracteres_a_partir_de_3)"
   ]
  },
  {
   "cell_type": "code",
   "execution_count": null,
   "id": "79a405cc-7df5-474f-a64a-c1bcd319ef92",
   "metadata": {},
   "outputs": [],
   "source": [
    "if bonjour.startswith(\"hel\"):\n",
    "    print(\"La variable bonjour commence par 'hel'.\")\n",
    "else:\n",
    "    print(\"La variable bonjour ne commence pas par 'hel'.\")"
   ]
  },
  {
   "cell_type": "code",
   "execution_count": null,
   "id": "0461f10a-3504-4659-be68-eb34f0ad1304",
   "metadata": {},
   "outputs": [],
   "source": [
    "# 2.2. Manipulation de fonctions\n",
    "nom = \"...\"\n",
    "def afficher_hello(nom):\n",
    "    print(\"Hello \" + nom)"
   ]
  },
  {
   "cell_type": "code",
   "execution_count": null,
   "id": "f48c7383-4612-4407-8d2c-0b181be0f361",
   "metadata": {},
   "outputs": [],
   "source": [
    "\n",
    "prenom_utilisateur = input(\"Entrez votre prénom : \")\n",
    "\n",
    "# Appeler la fonction avec le prénom de l'utilisateur\n",
    "afficher_hello(prenom_utilisateur)"
   ]
  },
  {
   "cell_type": "code",
   "execution_count": null,
   "id": "2fade39f-ffa8-460f-9b8e-f095110496b4",
   "metadata": {},
   "outputs": [],
   "source": [
    "def majeur(age):\n",
    "    if age >= 18:\n",
    "        print(\"Vous êtes majeur !\")\n",
    "    else:\n",
    "        print(\"Vous êtes mineur.\")\n",
    "\n",
    "# Demander à l'utilisateur de saisir son âge\n",
    "try:\n",
    "    age_utilisateur = int(input(\"Entrez votre âge : \"))\n",
    "    majeur(age_utilisateur)\n",
    "except ValueError:\n",
    "    print(\"Veuillez saisir un nombre entier pour l'âge.\")"
   ]
  },
  {
   "cell_type": "code",
   "execution_count": 2,
   "id": "579d69ef-4205-4381-ad45-718ccca47868",
   "metadata": {},
   "outputs": [
    {
     "name": "stdin",
     "output_type": "stream",
     "text": [
      "Entrez un nombre :  16\n"
     ]
    },
    {
     "name": "stdout",
     "output_type": "stream",
     "text": [
      "16.0 est pair.\n"
     ]
    }
   ],
   "source": [
    "def verifier_pair_impair(nombre):\n",
    "    if nombre % 2 == 0:\n",
    "        print(f\"{nombre} est pair.\")\n",
    "    else:\n",
    "        print(f\"{nombre} est impair.\")\n",
    "\n",
    "# Demander à l'utilisateur de saisir un nombre\n",
    "try:\n",
    "    a = float(input(\"Entrez un nombre : \"))  # Utilisation de float pour accepter des nombres à virgule\n",
    "    verifier_pair_impair(a)\n",
    "except ValueError:\n",
    "    print(\"Veuillez saisir un nombre valide.\")"
   ]
  },
  {
   "cell_type": "code",
   "execution_count": 1,
   "id": "e963560f-9317-4839-ad8a-2f5842d3e013",
   "metadata": {},
   "outputs": [
    {
     "name": "stdout",
     "output_type": "stream",
     "text": [
      "La somme des entiers naturels strictement inférieurs à 1000 et multiples de 3 ou 5 est : 233168\n"
     ]
    }
   ],
   "source": [
    "#2.4. Multiples de 3 et 5 🎲🎲\n",
    "#2.4.1. L'énoncé\n",
    "#Cédric Villani a besoin d'aide pour enfin décrocher le prix Nobel de Mathématiques. Il a besoin de résoudre le problème suivant :\n",
    "#Si on liste tous les entiers naturels strictement inférieurs à 11 et qui sont multiples de 3 ou 5, on obtient 3, 5, 6, 9 et 10. La somme de ces nombres est égale à 33.\n",
    "#=> Trouve la somme des entiers naturels strictement inférieurs à 1000 et qui sont multiples de 3 ou 5.\n",
    "#Pour t'aider sur ce premier exercice, on va décomposer des étapes qui vont nous permettre de le résoudre.\n",
    "\n",
    "\n",
    "somme = 0\n",
    "\n",
    "# Étape 2 et 3 : Parcourir les entiers et ajouter ceux qui sont multiples de 3 ou 5 à la somme\n",
    "for nombre in range(1, 1000):\n",
    "    if nombre % 3 == 0 or nombre % 5 == 0:\n",
    "        somme += nombre\n",
    "\n",
    "# Étape 5 : Afficher la somme\n",
    "print(\"La somme des entiers naturels strictement inférieurs à 1000 et multiples de 3 ou 5 est :\", somme)"
   ]
  },
  {
   "cell_type": "code",
   "execution_count": 3,
   "id": "5b0fbb0e-2fe4-4af4-af26-5fcbdb068884",
   "metadata": {},
   "outputs": [
    {
     "name": "stdout",
     "output_type": "stream",
     "text": [
      "233168\n"
     ]
    }
   ],
   "source": [
    "# la soluce\n",
    "print(sum(i for i in range(1, 1000) if i%3 == 0 or i%5 == 0))"
   ]
  },
  {
   "cell_type": "code",
   "execution_count": 6,
   "id": "15f90299-d6e6-401f-acac-d760f99f6464",
   "metadata": {},
   "outputs": [
    {
     "name": "stdout",
     "output_type": "stream",
     "text": [
      "Texte chiffré : ZKDW D WZLVW !\n"
     ]
    }
   ],
   "source": [
    "def caesar_cipher(texte, cle):\n",
    "    alphabet = 'ABCDEFGHIJKLMNOPQRSTUVWXYZ'\n",
    "    texte_chiffre = ''.join([alphabet[(alphabet.index(caractere.upper()) + cle) % len(alphabet)] if caractere.upper() in alphabet else caractere for caractere in texte])\n",
    "    return texte_chiffre\n",
    "\n",
    "#Voici une description étape par étape de cette ligne :\n",
    "\n",
    "#1. `[...]` : C'est une liste en compréhension, qui génère une liste de caractères chiffrés pour chaque caractère du texte à chiffrer.\n",
    "#3. `alphabet[(alphabet.index(caractere.upper()) + cle) % len(alphabet)] if caractere.upper() in alphabet else caractere` : C'est le deuxième élément de la liste en compréhension, qui détermine le caractère chiffré pour chaque caractère du texte.\n",
    "#a. `caractere.upper() in alphabet` : Vérifie si le caractère (en majuscule) est une lettre de l'alphabet.\n",
    "#b. `alphabet.index(caractere.upper())` : Trouve la position du caractère dans l'alphabet.\n",
    "#c. `(alphabet.index(caractere.upper()) + cle) % len(alphabet)` : Ajoute la clé de chiffrement à la position du caractère dans l'alphabet et utilise l'opérateur de modulo `%` pour gérer les décalages circulaires (quand la position dépasse la fin de l'alphabet).\n",
    "#d. `alphabet[(alphabet.index(caractere.upper()) + cle) % len(alphabet)]` : Récupère la lettre correspondante à la nouvelle position décalée dans l'alphabet.\n",
    "#e. `if caractere.upper() in alphabet else caractere` : Si le caractère est une lettre de l'alphabet, remplace le caractère par la lettre chiffrée. Sinon, conserve le caractère tel quel (espaces, ponctuations, etc.).\n",
    "#4. `''.join(...)` : Utilise la fonction `join` pour assembler les caractères chiffrés en une chaîne de caractères.\n",
    "#En résumé, cette ligne effectue une boucle sur chaque caractère du texte à chiffrer, chiffre les lettres de l'alphabet avec la clé de chiffrement donnée, et assemble les caractères chiffrés pour former le texte chiffré final.\n",
    "\n",
    "# Exemple d'utilisation de la fonction caesar_cipher\n",
    "texte_a_chiffrer = \"WHAT A TWIST !\"\n",
    "cle_de_chiffrement = 3\n",
    "texte_chiffre = caesar_cipher(texte_a_chiffrer, cle_de_chiffrement)\n",
    "print(\"Texte chiffré :\", texte_chiffre) # Affiche \"Texte chiffré : KHOOR ZRUOG !\""
   ]
  },
  {
   "cell_type": "code",
   "execution_count": 7,
   "id": "f442269b-1e29-45f3-8f8f-eb6c6faf8060",
   "metadata": {},
   "outputs": [
    {
     "name": "stdout",
     "output_type": "stream",
     "text": [
      "Meilleur jour d'achat : Jour 2\n",
      "Meilleur jour de revente : Jour 5\n"
     ]
    }
   ],
   "source": [
    "def day_trader(prices):\n",
    "    # Vérifier si la liste de prix contient au moins deux éléments\n",
    "    if len(prices) < 2:\n",
    "        raise ValueError(\"La liste de prix doit contenir au moins deux éléments.\")\n",
    "\n",
    "    # Initialiser les variables pour enregistrer les indices du meilleur achat et de la meilleure revente\n",
    "    meilleur_achat = 0\n",
    "    meilleur_revente = 0\n",
    "\n",
    "    # Initialiser la variable pour enregistrer le profit maximum\n",
    "    max_profit = 0\n",
    "\n",
    "    # Parcourir tous les jours possibles pour l'achat (i) et la revente (j)\n",
    "    for i in range(len(prices)):\n",
    "        for j in range(i + 1, len(prices)):\n",
    "            # Calculer le profit pour la paire de jours actuelle (i, j)\n",
    "            profit = prices[j] - prices[i]\n",
    "\n",
    "            # Mettre à jour le profit maximum et les indices d'achat/revente si le profit actuel est plus élevé\n",
    "            if profit > max_profit:\n",
    "                max_profit = profit\n",
    "                meilleur_achat = i\n",
    "                meilleur_revente = j\n",
    "\n",
    "    # Renvoyer les indices du meilleur jour d'achat et du meilleur jour de revente\n",
    "    return meilleur_achat, meilleur_revente\n",
    "\n",
    "# Exemple d'utilisation de la fonction day_trader\n",
    "liste_prix = [17, 3, 6, 9, 15, 8, 6, 1, 10]\n",
    "jour_achat, jour_revente = day_trader(liste_prix)\n",
    "\n",
    "# Afficher les résultats\n",
    "print(f\"Meilleur jour d'achat : Jour {jour_achat + 1}\")\n",
    "print(f\"Meilleur jour de revente : Jour {jour_revente + 1}\")\n"
   ]
  },
  {
   "cell_type": "code",
   "execution_count": 12,
   "id": "1e71a2de-1f05-4702-92ae-ff85a5964fa8",
   "metadata": {},
   "outputs": [
    {
     "name": "stdout",
     "output_type": "stream",
     "text": [
      "{'the': 51860, 'of': 20609, 'and': 32649, 'to': 29497, 'a': 289150, 'in': 53781, 'for': 13993, 'is': 36817, 'on': 33631, 'that': 11554, 'by': 4998, 'this': 6916, 'with': 9201, 'i': 253990, 'you': 22206, 'it': 29513, 'not': 10951, 'or': 40601, 'be': 20757, 'are': 6584}\n"
     ]
    }
   ],
   "source": [
    "def word_counter(corpus, reference):\n",
    "    # Convertir le corpus en minuscules pour assurer la correspondance insensible à la casse\n",
    "    corpus = corpus.lower()\n",
    "\n",
    "    # Initialiser un dictionnaire pour enregistrer le nombre d'occurrences de chaque mot\n",
    "    occurrences = {}\n",
    "\n",
    "    # Parcourir chaque mot de la référence\n",
    "    for mot in reference:\n",
    "        # Trouver le nombre d'occurrences du mot dans le corpus en utilisant la méthode count\n",
    "        nb_occurrences = corpus.count(mot.lower())\n",
    "\n",
    "        # Enregistrer le nombre d'occurrences du mot dans le dictionnaire\n",
    "        occurrences[mot] = nb_occurrences\n",
    "\n",
    "    return occurrences\n",
    "\n",
    "\n",
    "# Exemple d'utilisation avec la référence donnée\n",
    "reference = [\"the\", \"of\", \"and\", \"to\", \"a\", \"in\", \"for\", \"is\", \"on\", \"that\", \"by\", \"this\", \"with\", \"i\", \"you\", \"it\", \"not\", \"or\", \"be\", \"are\"]\n",
    "\n",
    "# Charger le corpus à partir du fichier shakespeare.txt\n",
    "with open(\"Documents/shakespeare.txt\", \"r\", encoding=\"utf-8\") as file:\n",
    "    corpus = file.read()\n",
    "\n",
    "# Appeler la fonction word_counter avec le corpus et la référence\n",
    "occurrences = word_counter(corpus, reference)\n",
    "\n",
    "# Afficher le résultat\n",
    "print(occurrences)\n"
   ]
  },
  {
   "cell_type": "code",
   "execution_count": null,
   "id": "afa3934a-338b-455b-8c4a-747b6ed24b84",
   "metadata": {},
   "outputs": [],
   "source": []
  }
 ],
 "metadata": {
  "kernelspec": {
   "display_name": "Python 3 (ipykernel)",
   "language": "python",
   "name": "python3"
  },
  "language_info": {
   "codemirror_mode": {
    "name": "ipython",
    "version": 3
   },
   "file_extension": ".py",
   "mimetype": "text/x-python",
   "name": "python",
   "nbconvert_exporter": "python",
   "pygments_lexer": "ipython3",
   "version": "3.9.12"
  }
 },
 "nbformat": 4,
 "nbformat_minor": 5
}
